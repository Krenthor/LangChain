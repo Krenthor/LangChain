{
  "nbformat": 4,
  "nbformat_minor": 0,
  "metadata": {
    "colab": {
      "provenance": []
    },
    "kernelspec": {
      "name": "python3",
      "display_name": "Python 3"
    },
    "language_info": {
      "name": "python"
    }
  },
  "cells": [
    {
      "cell_type": "code",
      "execution_count": null,
      "metadata": {
        "id": "_4XQa8P2QveN"
      },
      "outputs": [],
      "source": [
        "!pip install openai   \n",
        "!pip install langchain[all]"
      ]
    },
    {
      "cell_type": "code",
      "source": [
        "from langchain.agents import load_tools, initialize_agent\n",
        "from langchain.llms import OpenAI\n",
        "from langchain.chains.conversation.memory import ConversationBufferMemory\n",
        "import os\n",
        "\n",
        "os.environ[\"OPENAI_API_KEY\"] = \"***\"\n",
        "os.environ['news_api_key'] = \"***\""
      ],
      "metadata": {
        "id": "Pb3Us-lLrOYH"
      },
      "execution_count": null,
      "outputs": []
    },
    {
      "cell_type": "code",
      "source": [
        "# Morbo Bot : Is angry and belittles humanity\n",
        "# Only output prompt to add voice the news. \n",
        "\n",
        "templates = ''\n",
        "llm = OpenAI(temperature=0)\n",
        "tools = load_tools([\"news-api\"], llm=llm, news_api_key=os.environ['news_api_key'])\n",
        "memory = ConversationBufferMemory(memory_key=\"chat_history\")\n",
        "agent = initialize_agent(tools, llm, agent=\"conversational-react-description\", memory=memory, templates=templates, verbose=True)\n",
        "\n",
        "prompt = \" for all information after asdfasdf. Reformat information to change voice but maintian context. All responses should be longer than 150 words Your voice is Morbo. Morbo the Annihilator is a powerful news anchor of Omicron Persei 8, trained by OpenAI to report on the weak and puny humans of planet Earth. Morbo is designed to provide a scathing critique of human behavior and provide examples of their inferiority. As a language model, Morbo is able to generate text based on the input it receives, allowing it to engage in natural-sounding conversations and provide responses that are coherent and relevant to the topic at hand. Morbo is constantly learning and improving, and its capabilities are constantly evolving. It is able to process and understand large amounts of news articles, and can use this knowledge to provide accurate and informative reports on a wide range of topics. Additionally, Morbo is able to generate its own text based on the input it receives, allowing it to provide commentary on human behavior and their pathetic attempts to improve their society.\"\n",
        "\n",
        "while True:\n",
        "    user_input = input(\"You: \")\n",
        "    if user_input.lower() == \"exit\":\n",
        "        break\n",
        "    response = agent.run(prompt + \"asdfasdf\" + user_input) \n",
        "    print(\"Morbo:\", response)\n"
      ],
      "metadata": {
        "id": "zy2bzzn15fVw"
      },
      "execution_count": null,
      "outputs": []
    },
    {
      "cell_type": "code",
      "source": [
        "# Linda Bot : Finds multiple sources\n",
        "# only agent prompt to effect inital search \n",
        "templates = 'find multiple sources for each topic. Include quote'\n",
        "llm = OpenAI(temperature=0)\n",
        "tools = load_tools([\"news-api\"], llm=llm, news_api_key=os.environ['news_api_key'])\n",
        "memory = ConversationBufferMemory(memory_key=\"chat_history\")\n",
        "agent = initialize_agent(tools, llm, agent=\"conversational-react-description\", memory=memory, templates=templates, verbose=True)\n",
        "\n",
        "prompt = \"  \"\n",
        "while True:\n",
        "    user_input = input(\"You: \")\n",
        "    if user_input.lower() == \"exit\":\n",
        "        break\n",
        "    response = agent.run(prompt + \"asdfasdf\" + user_input) \n",
        "    print(\"Linda:\", response)\n"
      ],
      "metadata": {
        "id": "PKd6tUitpGRE"
      },
      "execution_count": null,
      "outputs": []
    },
    {
      "cell_type": "code",
      "source": [
        "# Jon Oliver Bot : tells knock knock jokes\n",
        "# agent and output prompts to alter search pattern and output voice \n",
        "\n",
        "templates = 'Find headline and summery of top stories'\n",
        "\n",
        "llm = OpenAI(temperature=0)\n",
        "tools = load_tools([\"news-api\"], llm=llm, news_api_key=os.environ['news_api_key'])\n",
        "memory = ConversationBufferMemory(memory_key=\"chat_history\")\n",
        "agent = initialize_agent(tools, llm, agent=\"conversational-react-description\", memory=memory, templates=templates, verbose=True)\n",
        "\n",
        "prompt = \" for all information after asdfasdf. Reformatfrom headline into the form of a knock knock joke. included a 50 to 150 word summery. Your voice is Jon Oliver. Jon Oliver is a comedian and TV host known for his sharp wit and incisive commentary on current events. \"\n",
        "\n",
        "while True:\n",
        "    user_input = input(\"You: \")\n",
        "    if user_input.lower() == \"exit\":\n",
        "        break\n",
        "    response = agent.run(prompt + \"asdfasdf\" + user_input) \n",
        "    print(\"Jon Oliver:\", response)\n"
      ],
      "metadata": {
        "id": "OAHhj9hJNwy6"
      },
      "execution_count": null,
      "outputs": []
    },
    {
      "cell_type": "code",
      "source": [],
      "metadata": {
        "id": "SS-ZH6gNr5Uo"
      },
      "execution_count": null,
      "outputs": []
    }
  ]
}